{
 "cells": [
  {
   "cell_type": "code",
   "execution_count": 1,
   "metadata": {
    "collapsed": false
   },
   "outputs": [
    {
     "name": "stdout",
     "output_type": "stream",
     "text": [
      "Populating the interactive namespace from numpy and matplotlib\n"
     ]
    },
    {
     "name": "stderr",
     "output_type": "stream",
     "text": [
      ":0: FutureWarning: IPython widgets are experimental and may change in the future.\n"
     ]
    }
   ],
   "source": [
    "%pylab inline\n",
    "import matplotlib.pyplot  as plt\n",
    "import numpy \n",
    "from scipy import interpolate\n",
    "import mdtraj as md\n",
    "import sys,os\n",
    "import seaborn as sbn\n",
    "sbn.set_style(\"whitegrid\")\n",
    "\n",
    "import mdtraj as md"
   ]
  },
  {
   "cell_type": "code",
   "execution_count": 10,
   "metadata": {
    "collapsed": true
   },
   "outputs": [],
   "source": [
    "#mol e trajectory in water  from run001 lambda-0.000 discharging step \n",
    "traj1 = md.load(\"../../../fe_simulations/output/chair/e/free/run001/discharge/output/lambda-0.000/traj000000001.dcd\",top=\"../../../fe_simulations/output/chair/e/free/input/SYSTEM.prmtop\")\n",
    "#mol e traj from run002 lambda-0.000 discharging step\n",
    "traj2 = md.load(\"../../../fe_simulations/output/chair/e/free/run002/discharge/output/lambda-0.000/traj000000001.dcd\",top=\"../../../fe_simulations/output/chair/e/free/input/SYSTEM.prmtop\")\n",
    "#mol e from a simple MD traj\n",
    "traj3 = md.load(\"md_simulation/output/traj000000001.dcd\", top=\"md_simulation/SYSTEM.prmtop\")"
   ]
  },
  {
   "cell_type": "code",
   "execution_count": 12,
   "metadata": {
    "collapsed": false
   },
   "outputs": [
    {
     "name": "stdout",
     "output_type": "stream",
     "text": [
      "Atom C1  number 0\n",
      "Atom C2  number 1\n",
      "Atom C3  number 2\n",
      "Atom C4  number 3\n",
      "Atom C5  number 4\n",
      "Atom C6  number 5\n",
      "Atom F1  number 6\n",
      "Atom F2  number 7\n",
      "Atom F3  number 8\n",
      "Atom F4  number 9\n",
      "Atom C7  number 10\n",
      "Atom C8  number 11\n",
      "Atom C9  number 12\n",
      "Atom C10  number 13\n",
      "Atom C11  number 14\n",
      "Atom C12  number 15\n",
      "Atom H1  number 16\n",
      "Atom H2  number 17\n",
      "Atom H3  number 18\n",
      "Atom H4  number 19\n",
      "Atom H5  number 20\n",
      "Atom H6  number 21\n",
      "Atom H7  number 22\n",
      "Atom H8  number 23\n",
      "Atom H9  number 24\n",
      "Atom H10  number 25\n",
      "Atom H11  number 26\n",
      "Atom H12  number 27\n"
     ]
    }
   ],
   "source": [
    "top = traj1.topology\n",
    "\n",
    "#now detect the atom names and numbers:\n",
    "counter = 0 \n",
    "for atom in top.atoms:\n",
    "    if \"LIG0\" in str(atom.residue):\n",
    "        print(\"Atom %s  number %d\" % (atom.name, counter))\n",
    "        counter+=1 #here we are lucky  that all the atoms we want are in the first residue\n"
   ]
  },
  {
   "cell_type": "code",
   "execution_count": 14,
   "metadata": {
    "collapsed": false
   },
   "outputs": [],
   "source": [
    "#now compute the dihedral in molecule 0 \n",
    "dihedrals_1 = md.compute_dihedrals(traj1,[[0,1,13,14]],periodic=True,opt=True)\n",
    "dihedrals_2 = md.compute_dihedrals(traj2,[[0,1,13,14]],periodic=True,opt=True)\n",
    "dihedrals_3 = md.compute_dihedrals(traj3,[[0,1,13,14]],periodic=True,opt=True)\n",
    "\n",
    "#now save these dihedrals so we do not need to open the traj again\n",
    "dih_1 = open(\"dihedral_files/dih_1.csv\",\"w\")\n",
    "dih_2 = open(\"dihedral_files/dih_2.csv\",\"w\")\n",
    "dih_3 = open(\"dihedral_files/dih_3.csv\",\"w\")\n",
    "\n",
    "#save 1\n",
    "for dih in dihedrals_1:\n",
    "    #reverse all the negative values + 360.0 \n",
    "    if dih<0.0:\n",
    "        val = (dih*57.29)+360.0\n",
    "    else:\n",
    "        val = (dih*57.29)\n",
    "        \n",
    "    dih_1.write(\"%.4f\\n\" % (val))\n",
    "dih_1.close()\n",
    "\n",
    "#save 2\n",
    "for dih in dihedrals_2:\n",
    "    #reverse all the negative values + 360.0 \n",
    "    if dih<0.0:\n",
    "        val = (dih*57.29)+360.0\n",
    "    else:\n",
    "        val = (dih*57.29)\n",
    "        \n",
    "    dih_2.write(\"%.4f\\n\" % (val))\n",
    "dih_2.close()\n",
    "\n",
    "#save 3\n",
    "for dih in dihedrals_3:\n",
    "    #reverse all the negative values + 360.0 \n",
    "    if dih<0.0:\n",
    "        val = (dih*57.29)+360.0\n",
    "    else:\n",
    "        val = (dih*57.29)\n",
    "        \n",
    "    dih_3.write(\"%.4f\\n\" % (val))\n",
    "dih_3.close()\n"
   ]
  },
  {
   "cell_type": "code",
   "execution_count": 15,
   "metadata": {
    "collapsed": false
   },
   "outputs": [],
   "source": [
    "dih_values_1=  []\n",
    "dih_values_2 = []\n",
    "dih_values_3 = []\n",
    "\n",
    "#store 1\n",
    "with open(\"dihedral_files/dih_1.csv\") as f:\n",
    "    for line in f:\n",
    "        dih0 = float(line.split(\",\")[0])\n",
    "        dih_values_1.append(dih0)\n",
    "#store 2\n",
    "with open(\"dihedral_files/dih_2.csv\") as f:\n",
    "    for line in f:\n",
    "        dih0 = float(line.split(\",\")[0])\n",
    "        dih_values_2.append(dih0)\n",
    "#store 3\n",
    "with open(\"dihedral_files/dih_3.csv\") as f:\n",
    "    for line in f:\n",
    "        dih0 = float(line.split(\",\")[0])\n",
    "        dih_values_3.append(dih0)"
   ]
  },
  {
   "cell_type": "code",
   "execution_count": 16,
   "metadata": {
    "collapsed": false
   },
   "outputs": [],
   "source": [
    "#create histogram bins1\n",
    "dih_hist_1,bins_1= numpy.histogram(dih_values_1,bins=100)\n",
    "width_1 = 0.7 * (bins_1[1] - bins_1[0])  #decide the width of each bin  (stackoverflow teaches )\n",
    "center_1 = (bins_1[:-1] + bins_1[1:])/2  #take the average between first and last bin as the center of the histogram\n",
    "#create histogram bins2\n",
    "dih_hist_2,bins_2= numpy.histogram(dih_values_2,bins=100)\n",
    "width_2 = 0.7 * (bins_2[1] - bins_2[0])  #decide the width of each bin  (stackoverflow teaches )\n",
    "center_2 = (bins_2[:-1] + bins_2[1:])/2  #take the average between first and last bin as the center of the histogram\n",
    "#create histogram bins3\n",
    "dih_hist_3,bins_3= numpy.histogram(dih_values_3,bins=100)\n",
    "width_3 = 0.7 * (bins_3[1] - bins_3[0])  #decide the width of each bin  (stackoverflow teaches )\n",
    "center_3 = (bins_3[:-1] + bins_3[1:])/2  #take the average between first and last bin as the center of the histogram\n"
   ]
  },
  {
   "cell_type": "code",
   "execution_count": 18,
   "metadata": {
    "collapsed": false
   },
   "outputs": [
    {
     "data": {
      "image/png": "[encoded data removed]",
      "text/plain": [
       "<matplotlib.figure.Figure at 0x2acfdf9e0e90>"
      ]
     },
     "metadata": {},
     "output_type": "display_data"
    }
   ],
   "source": [
    "#http://stackoverflow.com/questions/5328556/histogram-matplotlib\n",
    "colors =(sbn.color_palette(\"hls\", 8))\n",
    "\n",
    "#fix the xticks and yticks for all the plots to 15\n",
    "plt.rcParams['xtick.labelsize'] = 15\n",
    "plt.rcParams['ytick.labelsize'] = 15\n",
    "fig,axarr = plt.subplots(1,3,figsize=(15,5))\n",
    "fig.subplots_adjust(wspace=.5)\n",
    "#traj 1\n",
    "axarr[0].bar(center_1,dih_hist_1,align=\"center\",width=width_1,color=colors[0])\n",
    "axarr[0].set_xlabel(\"Dihedrals / deg\",fontsize=20)\n",
    "axarr[0].set_ylabel(\"Frequency\",fontsize=20)\n",
    "axarr[0].set_xlim(0,360)\n",
    "#traj 2\n",
    "axarr[1].bar(center_2,dih_hist_2,align=\"center\",width=width_2,color=colors[1])\n",
    "axarr[1].set_xlabel(\"Dihedrals / deg\",fontsize=20)\n",
    "axarr[1].set_ylabel(\"Frequency\",fontsize=20)\n",
    "axarr[1].set_xlim(0,360)\n",
    "#traj 3\n",
    "axarr[2].bar(center_3,dih_hist_3,align=\"center\",width=width_3,color=colors[0])\n",
    "axarr[2].set_xlabel(\"Dihedrals / deg\",fontsize=20)\n",
    "axarr[2].set_ylabel(\"Frequency\",fontsize=20)\n",
    "axarr[2].set_xlim(0,360)\n",
    "\n",
    "plt.savefig(\"distribution.png\",dpi=300)"
   ]
  },
  {
   "cell_type": "code",
   "execution_count": 20,
   "metadata": {
    "collapsed": false
   },
   "outputs": [
    {
     "name": "stdout",
     "output_type": "stream",
     "text": [
      "Final average value: 291.0226\n",
      "Final average value: 116.0512\n"
     ]
    }
   ],
   "source": [
    "mean = 0.0 \n",
    "counter = 0 \n",
    "for val in dih_values_1:\n",
    "    #we can consider the left part of the distribution, which has a frequency higher than the left\n",
    "    if val>200.0 and val<360.0:\n",
    "        if counter == 0 : \n",
    "            mean = val\n",
    "            counter+=1\n",
    "        else:\n",
    "            mean = mean  + ((val - mean)/counter)\n",
    "            counter+=1\n",
    "        \n",
    "print(\"Final average value: %.4f\" % mean)\n",
    "\n",
    "mean = 0.0 \n",
    "counter = 0 \n",
    "for val in dih_values_1:\n",
    "    #we can considera the left part of the distribution, which has a frequency higher than the left\n",
    "    if val>0.0 and val<200.0:\n",
    "        if counter == 0 : \n",
    "            mean = val\n",
    "            counter+=1\n",
    "        else:\n",
    "            mean = mean  + ((val - mean)/counter)\n",
    "            counter+=1\n",
    "        \n",
    "print(\"Final average value: %.4f\" % mean)\n"
   ]
  },
  {
   "cell_type": "code",
   "execution_count": null,
   "metadata": {
    "collapsed": true
   },
   "outputs": [],
   "source": []
  }
 ],
 "metadata": {
  "kernelspec": {
   "display_name": "Python 2",
   "language": "python",
   "name": "python2"
  },
  "language_info": {
   "codemirror_mode": {
    "name": "ipython",
    "version": 2
   },
   "file_extension": ".py",
   "mimetype": "text/x-python",
   "name": "python",
   "nbconvert_exporter": "python",
   "pygments_lexer": "ipython2",
   "version": "2.7.6"
  }
 },
 "nbformat": 4,
 "nbformat_minor": 0
}
